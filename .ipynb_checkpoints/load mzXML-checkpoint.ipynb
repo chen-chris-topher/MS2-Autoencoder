{
 "cells": [
  {
   "cell_type": "code",
   "execution_count": 28,
   "metadata": {},
   "outputs": [
    {
     "name": "stdout",
     "output_type": "stream",
     "text": [
      "num\n",
      "retentionTime\n",
      "polarity\n",
      "msLevel\n",
      "collisionEnergy\n",
      "peaksCount\n",
      "lowMz\n",
      "highMz\n",
      "basePeakMz\n",
      "basePeakIntensity\n",
      "totIonCurrent\n",
      "id\n",
      "m/z array\n",
      "intensity array\n"
     ]
    }
   ],
   "source": [
    "from pyteomics import mzxml, auxiliary\n",
    "\n",
    "file = 'cholesterol.mzXML'\n",
    "file2 = 'cortisol.mzXML'\n",
    "with mzxml.read(file) as reader:\n",
    "    auxiliary.print_tree(next(reader))"
   ]
  },
  {
   "cell_type": "code",
   "execution_count": 29,
   "metadata": {},
   "outputs": [],
   "source": [
    "f = mzxml.MzXML(file)"
   ]
  },
  {
   "cell_type": "code",
   "execution_count": 3,
   "metadata": {},
   "outputs": [
    {
     "data": {
      "text/plain": [
       "pyteomics.mzxml.MzXML"
      ]
     },
     "execution_count": 3,
     "metadata": {},
     "output_type": "execute_result"
    }
   ],
   "source": [
    "type(f)"
   ]
  },
  {
   "cell_type": "code",
   "execution_count": 36,
   "metadata": {},
   "outputs": [
    {
     "data": {
      "text/plain": [
       "0.007533333333333334 minute"
      ]
     },
     "execution_count": 36,
     "metadata": {},
     "output_type": "execute_result"
    }
   ],
   "source": [
    "f[0].get('retentionTime')"
   ]
  },
  {
   "cell_type": "code",
   "execution_count": 11,
   "metadata": {},
   "outputs": [],
   "source": [
    "def find_MS2(data):\n",
    "    id_list_ms1 = []\n",
    "    id_list_ms2 = []\n",
    "    \n",
    "    for i in range(0, len(data)):\n",
    "        if data[i].get('msLevel') == 2:\n",
    "            id_list_ms2.append(i)\n",
    "        elif data[i].get('msLevel') == 1:\n",
    "            id_list_ms1.append(i)\n",
    "        else:\n",
    "            print('msLevel error: could not sort dict[%s] msLevel' %(str(i)))\n",
    "    print('Generated list of indexes containing MS2 scans to \"id_list_ms2.txt\"')\n",
    "\n",
    "    return id_list_ms2"
   ]
  },
  {
   "cell_type": "code",
   "execution_count": 13,
   "metadata": {},
   "outputs": [
    {
     "name": "stdout",
     "output_type": "stream",
     "text": [
      "Generated list of indexes containing MS2 scans to \"id_list_ms2.txt\"\n"
     ]
    }
   ],
   "source": [
    "id_list_ms2 = find_MS2(f)"
   ]
  },
  {
   "cell_type": "code",
   "execution_count": 34,
   "metadata": {
    "scrolled": true
   },
   "outputs": [
    {
     "name": "stdout",
     "output_type": "stream",
     "text": [
      "Found a match: 1:1\n",
      "Found a match: 1:2\n",
      "Found a match: 1:3\n",
      "Found a match: 1:4\n",
      "Found a match: 1:5\n",
      "Found a match: 1:6\n",
      "Found a match: 1:7\n",
      "Found a match: 1:9\n",
      "Found a match: 1:10\n",
      "Found a match: 1:11\n",
      "Found a match: 2:1\n",
      "Found a match: 2:2\n",
      "Found a match: 2:3\n",
      "Found a match: 2:4\n",
      "Found a match: 2:5\n",
      "Found a match: 2:6\n",
      "Found a match: 2:7\n",
      "Found a match: 2:9\n",
      "Found a match: 2:10\n",
      "Found a match: 2:11\n",
      "Found a match: 3:1\n",
      "Found a match: 3:2\n",
      "Found a match: 3:3\n",
      "Found a match: 3:4\n",
      "Found a match: 3:5\n",
      "Found a match: 3:6\n",
      "Found a match: 3:7\n",
      "Found a match: 3:9\n",
      "Found a match: 3:10\n",
      "Found a match: 3:11\n",
      "Found a match: 4:1\n",
      "Found a match: 4:2\n",
      "Found a match: 4:3\n",
      "Found a match: 4:4\n",
      "Found a match: 4:5\n",
      "Found a match: 4:6\n",
      "Found a match: 4:7\n",
      "Found a match: 4:9\n",
      "Found a match: 4:10\n",
      "Found a match: 4:11\n",
      "Found a match: 5:1\n",
      "Found a match: 5:2\n",
      "Found a match: 5:3\n",
      "Found a match: 5:4\n",
      "Found a match: 5:5\n",
      "Found a match: 5:6\n",
      "Found a match: 5:7\n",
      "Found a match: 5:9\n",
      "Found a match: 5:10\n",
      "Found a match: 5:11\n",
      "Found a match: 6:1\n",
      "Found a match: 6:2\n",
      "Found a match: 6:3\n",
      "Found a match: 6:4\n",
      "Found a match: 6:5\n",
      "Found a match: 6:6\n",
      "Found a match: 6:7\n",
      "Found a match: 6:9\n",
      "Found a match: 6:10\n",
      "Found a match: 6:11\n",
      "Found a match: 7:1\n",
      "Found a match: 7:2\n",
      "Found a match: 7:3\n",
      "Found a match: 7:4\n",
      "Found a match: 7:5\n",
      "Found a match: 7:6\n",
      "Found a match: 7:7\n",
      "Found a match: 7:9\n",
      "Found a match: 7:10\n",
      "Found a match: 7:11\n",
      "Found a match: 9:1\n",
      "Found a match: 9:2\n",
      "Found a match: 9:3\n",
      "Found a match: 9:4\n",
      "Found a match: 9:5\n",
      "Found a match: 9:6\n",
      "Found a match: 9:7\n",
      "Found a match: 9:9\n",
      "Found a match: 9:10\n",
      "Found a match: 9:11\n",
      "Found a match: 10:1\n",
      "Found a match: 10:2\n",
      "Found a match: 10:3\n",
      "Found a match: 10:4\n",
      "Found a match: 10:5\n",
      "Found a match: 10:6\n",
      "Found a match: 10:7\n",
      "Found a match: 10:9\n",
      "Found a match: 10:10\n",
      "Found a match: 10:11\n",
      "Found a match: 11:1\n",
      "Found a match: 11:2\n",
      "Found a match: 11:3\n",
      "Found a match: 11:4\n",
      "Found a match: 11:5\n",
      "Found a match: 11:6\n",
      "Found a match: 11:7\n",
      "Found a match: 11:9\n",
      "Found a match: 11:10\n",
      "Found a match: 11:11\n"
     ]
    }
   ],
   "source": [
    "for k in id_list_ms2[0:10]:\n",
    "    for v in id_list_ms2[0:10]:\n",
    "        print('Found a match: %s:%r' %(k, v))"
   ]
  },
  {
   "cell_type": "code",
   "execution_count": 29,
   "metadata": {},
   "outputs": [
    {
     "name": "stdout",
     "output_type": "stream",
     "text": [
      "False\n",
      "True\n"
     ]
    }
   ],
   "source": [
    "dict = {}\n",
    "dict[1] = 1\n",
    "dict[2] = 3\n",
    "\n",
    "for k, v in dict.items():\n",
    "    print(v != k)"
   ]
  },
  {
   "cell_type": "code",
   "execution_count": 31,
   "metadata": {},
   "outputs": [
    {
     "name": "stdout",
     "output_type": "stream",
     "text": [
      "{'num': '2', 'retentionTime': 0.0095, 'polarity': '+', 'msLevel': 2, 'collisionEnergy': 23.0, 'peaksCount': 119, 'lowMz': 75.11124953, 'highMz': 1999.68088108, 'basePeakMz': 265.25338424, 'basePeakIntensity': 2664.0, 'totIonCurrent': 30020.0, 'precursorMz': [{'precursorIntensity': 40760.0, 'precursorMz': 283.26443481}], 'id': '2', 'm/z array': array([  75.11125 ,   79.023735,   82.25989 ,   92.06197 ,   93.429565,\n",
      "         94.770454,   95.090195,   96.947495,   97.066986,   97.106186,\n",
      "        103.3154  ,  105.271385,  109.1054  ,  111.081665,  111.1194  ,\n",
      "        111.82497 ,  113.132774,  121.11134 ,  125.09809 ,  127.08155 ,\n",
      "        127.14883 ,  129.09155 ,  130.81027 ,  136.06677 ,  137.13376 ,\n",
      "        137.88243 ,  139.11362 ,  140.14772 ,  141.16675 ,  143.11143 ,\n",
      "        143.4159  ,  144.28899 ,  149.13594 ,  151.1123  ,  151.35689 ,\n",
      "        153.13052 ,  155.18332 ,  157.12599 ,  157.16182 ,  158.60632 ,\n",
      "        163.15474 ,  164.15215 ,  165.15976 ,  165.99973 ,  166.11249 ,\n",
      "        167.14798 ,  169.20288 ,  171.13876 ,  177.16727 ,  178.17204 ,\n",
      "        179.88321 ,  181.16464 ,  183.0905  ,  185.15678 ,  185.18758 ,\n",
      "        185.2688  ,  185.3094  ,  185.62361 ,  186.66563 ,  186.7363  ,\n",
      "        187.65881 ,  189.8613  ,  191.17912 ,  193.19466 ,  195.09023 ,\n",
      "        195.17636 ,  199.1738  ,  199.20659 ,  200.17062 ,  201.8626  ,\n",
      "        201.92194 ,  205.19666 ,  209.19489 ,  210.18407 ,  213.18784 ,\n",
      "        213.9232  ,  221.21924 ,  222.26474 ,  223.212   ,  223.24435 ,\n",
      "        223.36621 ,  224.3542  ,  227.2105  ,  228.20789 ,  237.1085  ,\n",
      "        244.53143 ,  246.2232  ,  247.24348 ,  248.24524 ,  249.18137 ,\n",
      "        260.5803  ,  262.88486 ,  264.29535 ,  265.2534  ,  265.3635  ,\n",
      "        266.22928 ,  266.25772 ,  266.739   ,  267.23953 ,  269.66406 ,\n",
      "        280.12057 ,  280.92673 ,  281.25687 ,  282.27866 ,  283.2694  ,\n",
      "        283.29935 ,  284.26254 ,  285.15295 ,  285.26343 ,  285.2771  ,\n",
      "        285.28436 ,  285.45532 ,  286.2792  ,  833.7393  , 1118.8827  ,\n",
      "       1218.7162  , 1717.0386  , 1765.4578  , 1999.6809  ], dtype=float32), 'intensity array': array([ 200.,  208.,  304.,  228.,  220.,  140.,  232.,  204.,  252.,\n",
      "        236.,  192.,  208.,  188.,  184.,  524.,  136.,  224.,  208.,\n",
      "        252.,  196.,  220.,  232.,  104.,  240.,  220.,  208.,  168.,\n",
      "        216.,  172.,  180.,  116.,  284.,  468.,  224.,  104.,  344.,\n",
      "        272.,  248.,  268.,  196.,  436.,  204.,  284.,   96.,  204.,\n",
      "        176.,  212.,  240.,  132.,  168.,  240.,  332.,  216.,   84.,\n",
      "        176.,  164.,  212.,  164.,  188.,  160.,  132.,  168.,  200.,\n",
      "        196.,  256.,  228.,  432.,  192.,  192.,  220.,  164.,  244.,\n",
      "        248.,  104.,  428.,  160.,  248.,  172.,  460.,  116.,   76.,\n",
      "        172.,  284.,  280.,  176.,  244.,  224., 1044.,  200.,  176.,\n",
      "        232.,  232.,  232., 2664.,  228.,  124.,  604.,  152.,  224.,\n",
      "         92.,  128.,  192.,  180.,  172., 1120.,  396.,  176.,  156.,\n",
      "        248.,  220.,  276.,   92.,  180.,  124.,  196.,  212.,  200.,\n",
      "        264.,  160.], dtype=float32)} {'num': '1723', 'retentionTime': 4.007916666666667, 'polarity': '+', 'msLevel': 2, 'collisionEnergy': 34.0, 'peaksCount': 117, 'lowMz': 76.53268161, 'highMz': 1829.60157188, 'basePeakMz': 247.24421289, 'basePeakIntensity': 792.0, 'totIonCurrent': 25328.0, 'precursorMz': [{'precursorIntensity': 28340.000000000004, 'precursorMz': 283.26818848}], 'id': '1723', 'm/z array': array([  76.532684,   84.727715,   92.22609 ,   96.09351 ,   97.68907 ,\n",
      "         97.87198 ,   99.529785,  101.065506,  101.65221 ,  101.67226 ,\n",
      "        105.075485,  105.20805 ,  107.08504 ,  109.09077 ,  111.08157 ,\n",
      "        111.1235  ,  112.9931  ,  113.06711 ,  121.10507 ,  122.11046 ,\n",
      "        124.53162 ,  125.09711 ,  125.12938 ,  126.54167 ,  127.11508 ,\n",
      "        128.11041 ,  131.82213 ,  135.12172 ,  136.8985  ,  137.1383  ,\n",
      "        139.11479 ,  139.1534  ,  140.12172 ,  145.0568  ,  149.01196 ,\n",
      "        149.13686 ,  150.13821 ,  151.80244 ,  154.0579  ,  154.1295  ,\n",
      "        157.1243  ,  158.08562 ,  160.12022 ,  162.14505 ,  163.14827 ,\n",
      "        167.14307 ,  169.01909 ,  170.4209  ,  174.9924  ,  177.16312 ,\n",
      "        181.08281 ,  181.15776 ,  182.86166 ,  186.15497 ,  189.00705 ,\n",
      "        191.17911 ,  192.97893 ,  193.20003 ,  195.1234  ,  195.17383 ,\n",
      "        202.99435 ,  205.19649 ,  209.196   ,  211.12209 ,  212.01892 ,\n",
      "        212.17245 ,  213.18767 ,  221.18948 ,  222.0689  ,  227.20213 ,\n",
      "        229.16104 ,  229.89328 ,  235.13396 ,  240.2302  ,  240.25177 ,\n",
      "        241.10649 ,  243.053   ,  244.12396 ,  244.22652 ,  245.0447  ,\n",
      "        245.50882 ,  247.05077 ,  247.24422 ,  248.24713 ,  249.25339 ,\n",
      "        254.24582 ,  262.49713 ,  263.0001  ,  263.9008  ,  265.25174 ,\n",
      "        266.14468 ,  266.25833 ,  267.26532 ,  274.13074 ,  277.13895 ,\n",
      "        277.92093 ,  280.97983 ,  281.14743 ,  282.13794 ,  282.28436 ,\n",
      "        283.11096 ,  283.14633 ,  283.27658 ,  284.03873 ,  284.2969  ,\n",
      "        285.17215 ,  285.25348 ,  285.27722 ,  301.16382 ,  339.21072 ,\n",
      "        358.1843  ,  361.16046 ,  367.1993  , 1582.7433  , 1607.4161  ,\n",
      "       1808.3181  , 1829.6016  ], dtype=float32), 'intensity array': array([ 84., 196., 104., 272.,  84., 264., 212., 240., 172., 228., 132.,\n",
      "       192., 176., 168., 224., 308., 284., 212., 360., 220., 256., 268.,\n",
      "       140., 204., 220., 152., 128., 204.,  96., 152., 248., 216., 148.,\n",
      "       232., 120., 176., 180., 244., 248.,  84., 164., 128., 232., 204.,\n",
      "       508., 764., 192., 220., 240., 376., 196., 228., 104., 168., 260.,\n",
      "       160., 188., 200., 172., 560., 148., 112., 224., 212., 244., 256.,\n",
      "       196., 160., 224., 244., 252., 168., 116., 240., 104., 148., 172.,\n",
      "       164., 208., 200., 180., 248., 792., 176., 228., 228., 280., 164.,\n",
      "       248., 392., 192., 248., 128., 244., 248., 272., 164., 184., 176.,\n",
      "       164., 152., 176., 252., 136., 232., 284., 196., 192., 164., 196.,\n",
      "       220., 176., 212., 220., 248., 204., 208.], dtype=float32)}\n"
     ]
    }
   ],
   "source": [
    "print(f[1],f[1722])"
   ]
  },
  {
   "cell_type": "code",
   "execution_count": 32,
   "metadata": {
    "scrolled": false
   },
   "outputs": [
    {
     "name": "stdout",
     "output_type": "stream",
     "text": [
      "40760.0 28340.000000000004\n"
     ]
    }
   ],
   "source": [
    "for value in pair_array[0]:\n",
    "    print(f[value].get('precursorMz')[0].get('precursorIntensity'))"
   ]
  },
  {
   "cell_type": "code",
   "execution_count": 26,
   "metadata": {
    "scrolled": true
   },
   "outputs": [
    {
     "name": "stdout",
     "output_type": "stream",
     "text": [
      "<class 'str'>\n",
      "<class 'pyteomics.auxiliary.structures.unitfloat'>\n",
      "<class 'str'>\n",
      "<class 'pyteomics.auxiliary.structures.unitint'>\n",
      "<class 'pyteomics.auxiliary.structures.unitfloat'>\n",
      "<class 'pyteomics.auxiliary.structures.unitint'>\n",
      "<class 'pyteomics.auxiliary.structures.unitfloat'>\n",
      "<class 'pyteomics.auxiliary.structures.unitfloat'>\n",
      "<class 'pyteomics.auxiliary.structures.unitfloat'>\n",
      "<class 'pyteomics.auxiliary.structures.unitfloat'>\n",
      "<class 'pyteomics.auxiliary.structures.unitfloat'>\n",
      "<class 'list'>\n",
      "<class 'str'>\n",
      "<class 'numpy.ndarray'>\n",
      "<class 'numpy.ndarray'>\n"
     ]
    }
   ],
   "source": [
    "for v in f[1].values():\n",
    "    print(type(v))"
   ]
  },
  {
   "cell_type": "code",
   "execution_count": 16,
   "metadata": {
    "scrolled": true
   },
   "outputs": [
    {
     "name": "stdout",
     "output_type": "stream",
     "text": [
      "retentionTime : 0.0095\n"
     ]
    }
   ],
   "source": [
    "for k,v in f[1].items():\n",
    "    if k=='retentionTime':\n",
    "        print(k,':',v)"
   ]
  },
  {
   "cell_type": "code",
   "execution_count": 12,
   "metadata": {},
   "outputs": [
    {
     "name": "stdout",
     "output_type": "stream",
     "text": [
      "ms1=  547\n",
      "ms2=  3800\n"
     ]
    }
   ],
   "source": [
    "tot_ms1 = 0\n",
    "tot_ms2 = 0\n",
    "id_list_ms1 = []\n",
    "id_list_ms2 = []\n",
    "\n",
    "\n",
    "for i in range(0,len(f)):\n",
    "    for k,v in f[i].items():\n",
    "        if k=='num':\n",
    "            id_list_ms2.append(int(v)-1)\n",
    "        if k=='msLevel':\n",
    "            if v==1:\n",
    "                tot_ms1+=1\n",
    "                id_list_ms1.append(id_list_ms2[-1])\n",
    "                del id_list_ms2[-1]\n",
    "            elif v==2:\n",
    "                tot_ms2+=1\n",
    "            else:\n",
    "                print('msLevel not 1 or 2')\n",
    "    \n",
    "print('ms1= ', tot_ms1)\n",
    "print('ms2= ', tot_ms2)\n",
    "\n",
    "with open('id_list_ms1.txt', 'w') as output:\n",
    "    output.write(str(id_list_ms1))\n",
    "with open('id_list_ms2.txt', 'w') as output:\n",
    "    output.write(str(id_list_ms2))"
   ]
  },
  {
   "cell_type": "code",
   "execution_count": 34,
   "metadata": {
    "scrolled": true
   },
   "outputs": [
    {
     "data": {
      "text/plain": [
       "float"
      ]
     },
     "execution_count": 34,
     "metadata": {},
     "output_type": "execute_result"
    }
   ],
   "source": [
    "mass_save = float(f[1].get('precursorMz')[0].get('precursorMz'))\n",
    "type(mass_save)"
   ]
  },
  {
   "cell_type": "code",
   "execution_count": 25,
   "metadata": {},
   "outputs": [],
   "source": [
    "import json\n",
    "import pandas as pd\n",
    "import numpy as np\n",
    "\n",
    "file = 'pair_dict-Copy1.json'\n",
    "\n",
    "with open(file) as train_file:\n",
    "    pair_dict = json.load(train_file)\n",
    "    \n",
    "pair_df = pd.DataFrame.from_dict(pair_dict, orient='index')\n",
    "pair_array = np.array(list(pair_dict.values()))"
   ]
  },
  {
   "cell_type": "code",
   "execution_count": 36,
   "metadata": {},
   "outputs": [
    {
     "data": {
      "text/plain": [
       "array([list([10, 17, 242, 250, 269, 474, 498, 507, 522, 554, 562, 570, 778, 786, 794, 1011, 1026, 1076, 1106, 1114, 1122, 1394, 1411, 1418, 1426, 1642, 1650, 1708, 1722, 1749, 1756, 1779, 1810, 1826, 1844, 1859, 1876, 1898, 1914, 1930, 1947, 2199, 2216, 2256, 2292, 2301, 2325, 2354, 2445, 2451, 2466, 2475, 2531, 2603, 2628, 3398, 3632]),\n",
       "       list([11, 18, 146, 172, 228, 243, 280, 298, 306, 331, 394, 403, 410, 643, 686, 707, 723, 754, 779, 850, 875, 885, 1005, 1028, 1083, 1181, 1210, 1221, 1275, 1298, 1370, 1412, 1429, 1446, 1451, 1458, 2075, 2085, 2117, 2302, 2406, 2444, 2598, 2687, 2691, 2998, 3037, 3058, 3085, 3091, 3100, 3358, 3648]),\n",
       "       list([12, 236, 244, 251, 274, 525, 573, 588, 691, 742, 807, 862, 1191]),\n",
       "       ..., list([4327]), list([]), list([])], dtype=object)"
      ]
     },
     "execution_count": 36,
     "metadata": {},
     "output_type": "execute_result"
    }
   ],
   "source": [
    "pair_array"
   ]
  },
  {
   "cell_type": "code",
   "execution_count": null,
   "metadata": {},
   "outputs": [],
   "source": []
  }
 ],
 "metadata": {
  "kernelspec": {
   "display_name": "Python 3",
   "language": "python",
   "name": "python3"
  },
  "language_info": {
   "codemirror_mode": {
    "name": "ipython",
    "version": 3
   },
   "file_extension": ".py",
   "mimetype": "text/x-python",
   "name": "python",
   "nbconvert_exporter": "python",
   "pygments_lexer": "ipython3",
   "version": "3.7.3"
  }
 },
 "nbformat": 4,
 "nbformat_minor": 2
}
