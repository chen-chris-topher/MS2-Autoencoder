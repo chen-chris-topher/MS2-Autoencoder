{
 "cells": [
  {
   "cell_type": "markdown",
   "metadata": {},
   "source": [
    "## ready_array2.npz as dataset"
   ]
  },
  {
   "cell_type": "code",
   "execution_count": 1,
   "metadata": {},
   "outputs": [],
   "source": [
    "import numpy as np\n",
    "import pandas as pd"
   ]
  },
  {
   "cell_type": "code",
   "execution_count": 26,
   "metadata": {},
   "outputs": [],
   "source": [
    "cholesterol = 'C:/Users/CCheny/Documents/UC San Diego - Junction/Bioinformatics/MS2-Autoencoder/Output/cholesterol/ready_array2.npz'"
   ]
  },
  {
   "cell_type": "code",
   "execution_count": 27,
   "metadata": {},
   "outputs": [],
   "source": [
    "file = np.load(cholesterol, allow_pickle=True)\n",
    "data = file['arr_0']"
   ]
  },
  {
   "cell_type": "code",
   "execution_count": 28,
   "metadata": {},
   "outputs": [],
   "source": [
    "np.random.shuffle(data)\n",
    "new_list = np.split(data, 2, axis=1)"
   ]
  },
  {
   "cell_type": "code",
   "execution_count": 9,
   "metadata": {
    "collapsed": true,
    "hide_input": true
   },
   "outputs": [
    {
     "name": "stdout",
     "output_type": "stream",
     "text": [
      "(5999, 1, 2000, 2)\n",
      "(5999, 2000, 2)\n"
     ]
    }
   ],
   "source": [
    "data3 = new_list[0]\n",
    "print(data3.shape)\n",
    "data3 = data3.reshape(data3.shape[0], data3.shape[2], data3.shape[3])\n",
    "data3[:,:,0] = data3[:,:,0].astype('float64') / 2000\n",
    "data3[:,:,1] = data3[:,:,1].astype('float64') / 127984\n",
    "print(data3.shape)\n",
    "data4 = new_list[1]\n",
    "data4[:,:,0] = data4[:,:,0].astype('float64') / 2000\n",
    "data4[:,:,1] = data4[:,:,1].astype('float64') / 127984\n",
    "data4 = data4.reshape(data4.shape[0], data4.shape[2], data4.shape[3])"
   ]
  },
  {
   "cell_type": "code",
   "execution_count": 37,
   "metadata": {},
   "outputs": [
    {
     "name": "stdout",
     "output_type": "stream",
     "text": [
      "(5999, 1, 2000)\n",
      "(5999, 1, 2000)\n"
     ]
    }
   ],
   "source": [
    "low_peaks = new_list[0]\n",
    "low_peaks = low_peaks.astype('float32') / np.amax(data)\n",
    "print(low_peaks.shape)\n",
    "high_peaks = new_list[1]\n",
    "high_peaks = high_peaks.astype('float32') / np.amax(data)\n",
    "print(high_peaks.shape)"
   ]
  },
  {
   "cell_type": "markdown",
   "metadata": {},
   "source": [
    "## keras"
   ]
  },
  {
   "cell_type": "code",
   "execution_count": 38,
   "metadata": {},
   "outputs": [],
   "source": [
    "from keras.layers import Input, Dense\n",
    "from keras.models import Model"
   ]
  },
  {
   "cell_type": "code",
   "execution_count": 39,
   "metadata": {},
   "outputs": [],
   "source": [
    "X = low_peaks\n",
    "y = high_peaks"
   ]
  },
  {
   "cell_type": "code",
   "execution_count": 40,
   "metadata": {},
   "outputs": [
    {
     "data": {
      "text/plain": [
       "(5999, 1, 2000)"
      ]
     },
     "execution_count": 40,
     "metadata": {},
     "output_type": "execute_result"
    }
   ],
   "source": [
    "X.shape"
   ]
  },
  {
   "cell_type": "code",
   "execution_count": 41,
   "metadata": {},
   "outputs": [
    {
     "name": "stdout",
     "output_type": "stream",
     "text": [
      "(4799, 1, 2000)\n",
      "(1200, 1, 2000)\n",
      "(4799, 2000)\n",
      "(1200, 2000)\n",
      "(4799, 1, 2000)\n",
      "(1200, 1, 2000)\n",
      "(4799, 2000)\n",
      "(1200, 2000)\n"
     ]
    }
   ],
   "source": [
    "Xcut = int(0.8*len(X))\n",
    "X_train = X[:Xcut,:,:]\n",
    "X_test = X[Xcut:,:,:]\n",
    "print(X_train.shape)\n",
    "print(X_test.shape)\n",
    "X_train = X_train.reshape(len(X_train), np.prod(X_train.shape[1:]))\n",
    "X_test = X_test.reshape(len(X_test), np.prod(X_test.shape[1:]))\n",
    "print(X_train.shape)\n",
    "print(X_test.shape)\n",
    "\n",
    "ycut = int(0.8*len(y))\n",
    "y_train = y[:ycut,:,:]\n",
    "y_test = y[ycut:,:,:]\n",
    "print(y_train.shape)\n",
    "print(y_test.shape)\n",
    "y_train = y_train.reshape(len(y_train), np.prod(y_train.shape[1:]))\n",
    "y_test = y_test.reshape(len(y_test), np.prod(y_test.shape[1:]))\n",
    "print(y_train.shape)\n",
    "print(y_test.shape)"
   ]
  },
  {
   "cell_type": "code",
   "execution_count": 46,
   "metadata": {},
   "outputs": [],
   "source": [
    "encoding_dim = 100\n",
    "input_scan = Input(shape=(2000,))\n",
    "encoded = Dense(encoding_dim, activation='softplus')(input_scan)\n",
    "decoded = Dense(2000, activation='sigmoid')(encoded)\n",
    "\n",
    "autoencoder = Model(input_scan, decoded)\n",
    "encoder = Model(input_scan, encoded)"
   ]
  },
  {
   "cell_type": "code",
   "execution_count": 47,
   "metadata": {},
   "outputs": [],
   "source": [
    "encoded_input = Input(shape=(encoding_dim,))\n",
    "decoder_layer = autoencoder.layers[-1]\n",
    "decoder = Model(encoded_input, decoder_layer(encoded_input))"
   ]
  },
  {
   "cell_type": "code",
   "execution_count": 48,
   "metadata": {},
   "outputs": [],
   "source": [
    "autoencoder.compile(optimizer='adadelta', loss='poisson')"
   ]
  },
  {
   "cell_type": "code",
   "execution_count": 49,
   "metadata": {
    "scrolled": true
   },
   "outputs": [
    {
     "name": "stdout",
     "output_type": "stream",
     "text": [
      "Train on 4799 samples, validate on 1200 samples\n",
      "Epoch 1/50\n",
      "4799/4799 [==============================] - 1s 139us/step - loss: 0.4816 - val_loss: 0.4629\n",
      "Epoch 2/50\n",
      "4799/4799 [==============================] - 0s 59us/step - loss: 0.4457 - val_loss: 0.4271\n",
      "Epoch 3/50\n",
      "4799/4799 [==============================] - 0s 61us/step - loss: 0.4101 - val_loss: 0.3916\n",
      "Epoch 4/50\n",
      "4799/4799 [==============================] - 0s 59us/step - loss: 0.3749 - val_loss: 0.3567\n",
      "Epoch 5/50\n",
      "4799/4799 [==============================] - 0s 62us/step - loss: 0.3404 - val_loss: 0.3228\n",
      "Epoch 6/50\n",
      "4799/4799 [==============================] - 0s 59us/step - loss: 0.3070 - val_loss: 0.2901\n",
      "Epoch 7/50\n",
      "4799/4799 [==============================] - 0s 59us/step - loss: 0.2751 - val_loss: 0.2591\n",
      "Epoch 8/50\n",
      "4799/4799 [==============================] - 0s 59us/step - loss: 0.2451 - val_loss: 0.2302\n",
      "Epoch 9/50\n",
      "4799/4799 [==============================] - 0s 59us/step - loss: 0.2173 - val_loss: 0.2037\n",
      "Epoch 10/50\n",
      "4799/4799 [==============================] - 0s 59us/step - loss: 0.1920 - val_loss: 0.1798\n",
      "Epoch 11/50\n",
      "4799/4799 [==============================] - 0s 62us/step - loss: 0.1693 - val_loss: 0.1584\n",
      "Epoch 12/50\n",
      "4799/4799 [==============================] - 0s 59us/step - loss: 0.1492 - val_loss: 0.1396\n",
      "Epoch 13/50\n",
      "4799/4799 [==============================] - 0s 58us/step - loss: 0.1316 - val_loss: 0.1233\n",
      "Epoch 14/50\n",
      "4799/4799 [==============================] - 0s 59us/step - loss: 0.1163 - val_loss: 0.1091\n",
      "Epoch 15/50\n",
      "4799/4799 [==============================] - 0s 59us/step - loss: 0.1030 - val_loss: 0.0968\n",
      "Epoch 16/50\n",
      "4799/4799 [==============================] - 0s 59us/step - loss: 0.0916 - val_loss: 0.0862\n",
      "Epoch 17/50\n",
      "4799/4799 [==============================] - 0s 59us/step - loss: 0.0818 - val_loss: 0.0771\n",
      "Epoch 18/50\n",
      "4799/4799 [==============================] - 0s 59us/step - loss: 0.0733 - val_loss: 0.0693\n",
      "Epoch 19/50\n",
      "4799/4799 [==============================] - 0s 59us/step - loss: 0.0660 - val_loss: 0.0625\n",
      "Epoch 20/50\n",
      "4799/4799 [==============================] - 0s 59us/step - loss: 0.0596 - val_loss: 0.0566\n",
      "Epoch 21/50\n",
      "4799/4799 [==============================] - 0s 59us/step - loss: 0.0541 - val_loss: 0.0515\n",
      "Epoch 22/50\n",
      "4799/4799 [==============================] - 0s 59us/step - loss: 0.0494 - val_loss: 0.0471\n",
      "Epoch 23/50\n",
      "4799/4799 [==============================] - 0s 62us/step - loss: 0.0452 - val_loss: 0.0432\n",
      "Epoch 24/50\n",
      "4799/4799 [==============================] - 0s 58us/step - loss: 0.0415 - val_loss: 0.0397\n",
      "Epoch 25/50\n",
      "4799/4799 [==============================] - 0s 59us/step - loss: 0.0383 - val_loss: 0.0367\n",
      "Epoch 26/50\n",
      "4799/4799 [==============================] - 0s 62us/step - loss: 0.0354 - val_loss: 0.0340\n",
      "Epoch 27/50\n",
      "4799/4799 [==============================] - 0s 62us/step - loss: 0.0329 - val_loss: 0.0316\n",
      "Epoch 28/50\n",
      "4799/4799 [==============================] - 0s 66us/step - loss: 0.0306 - val_loss: 0.0295\n",
      "Epoch 29/50\n",
      "4799/4799 [==============================] - 0s 62us/step - loss: 0.0286 - val_loss: 0.0276\n",
      "Epoch 30/50\n",
      "4799/4799 [==============================] - 0s 65us/step - loss: 0.0268 - val_loss: 0.0259\n",
      "Epoch 31/50\n",
      "4799/4799 [==============================] - 0s 62us/step - loss: 0.0251 - val_loss: 0.0243\n",
      "Epoch 32/50\n",
      "4799/4799 [==============================] - 0s 62us/step - loss: 0.0237 - val_loss: 0.0229\n",
      "Epoch 33/50\n",
      "4799/4799 [==============================] - 0s 63us/step - loss: 0.0223 - val_loss: 0.0217\n",
      "Epoch 34/50\n",
      "4799/4799 [==============================] - 0s 65us/step - loss: 0.0211 - val_loss: 0.0205\n",
      "Epoch 35/50\n",
      "4799/4799 [==============================] - 0s 62us/step - loss: 0.0200 - val_loss: 0.0194\n",
      "Epoch 36/50\n",
      "4799/4799 [==============================] - 0s 62us/step - loss: 0.0190 - val_loss: 0.0185\n",
      "Epoch 37/50\n",
      "4799/4799 [==============================] - 0s 59us/step - loss: 0.0180 - val_loss: 0.0176\n",
      "Epoch 38/50\n",
      "4799/4799 [==============================] - 0s 62us/step - loss: 0.0172 - val_loss: 0.0167\n",
      "Epoch 39/50\n",
      "4799/4799 [==============================] - 0s 59us/step - loss: 0.0164 - val_loss: 0.0160\n",
      "Epoch 40/50\n",
      "4799/4799 [==============================] - 0s 59us/step - loss: 0.0157 - val_loss: 0.0153\n",
      "Epoch 41/50\n",
      "4799/4799 [==============================] - 0s 62us/step - loss: 0.0150 - val_loss: 0.0146\n",
      "Epoch 42/50\n",
      "4799/4799 [==============================] - 0s 62us/step - loss: 0.0143 - val_loss: 0.0140\n",
      "Epoch 43/50\n",
      "4799/4799 [==============================] - 0s 59us/step - loss: 0.0138 - val_loss: 0.0135\n",
      "Epoch 44/50\n",
      "4799/4799 [==============================] - 0s 62us/step - loss: 0.0132 - val_loss: 0.0129\n",
      "Epoch 45/50\n",
      "4799/4799 [==============================] - 0s 62us/step - loss: 0.0127 - val_loss: 0.0125\n",
      "Epoch 46/50\n",
      "4799/4799 [==============================] - 0s 59us/step - loss: 0.0122 - val_loss: 0.0120\n",
      "Epoch 47/50\n",
      "4799/4799 [==============================] - 0s 59us/step - loss: 0.0118 - val_loss: 0.0116\n",
      "Epoch 48/50\n",
      "4799/4799 [==============================] - 0s 62us/step - loss: 0.0114 - val_loss: 0.0112\n",
      "Epoch 49/50\n",
      "4799/4799 [==============================] - 0s 62us/step - loss: 0.0110 - val_loss: 0.0108\n",
      "Epoch 50/50\n",
      "4799/4799 [==============================] - 0s 62us/step - loss: 0.0106 - val_loss: 0.0104\n"
     ]
    },
    {
     "data": {
      "text/plain": [
       "<keras.callbacks.History at 0x242bd724f28>"
      ]
     },
     "execution_count": 49,
     "metadata": {},
     "output_type": "execute_result"
    }
   ],
   "source": [
    "autoencoder.fit(X_train, y_train, \n",
    "                epochs=50, \n",
    "                batch_size=200, \n",
    "                validation_data=(X_test, y_test))"
   ]
  },
  {
   "cell_type": "code",
   "execution_count": 50,
   "metadata": {},
   "outputs": [],
   "source": [
    "encoded_scans = encoder.predict(X_test)\n",
    "decoded_scans = decoder.predict(encoded_scans)"
   ]
  },
  {
   "cell_type": "code",
   "execution_count": 52,
   "metadata": {},
   "outputs": [
    {
     "data": {
      "text/plain": [
       "array([[0.01006466, 0.01047942, 0.00987396, ..., 0.01028851, 0.01042628,\n",
       "        0.0107803 ],\n",
       "       [0.01006618, 0.0104804 , 0.0098761 , ..., 0.01029208, 0.01042759,\n",
       "        0.01078603],\n",
       "       [0.0100629 , 0.01047912, 0.00987396, ..., 0.01028797, 0.01042759,\n",
       "        0.01078111],\n",
       "       ...,\n",
       "       [0.01006225, 0.01047936, 0.00987437, ..., 0.01028663, 0.01042736,\n",
       "        0.01078096],\n",
       "       [0.01006028, 0.01047701, 0.0098713 , ..., 0.01028514, 0.01042256,\n",
       "        0.01077637],\n",
       "       [0.01006073, 0.01047853, 0.00987342, ..., 0.01028568, 0.01042542,\n",
       "        0.01077908]], dtype=float32)"
      ]
     },
     "execution_count": 52,
     "metadata": {},
     "output_type": "execute_result"
    }
   ],
   "source": [
    "decoded_scans.reshape(1200, 2000)"
   ]
  },
  {
   "cell_type": "code",
   "execution_count": 53,
   "metadata": {},
   "outputs": [
    {
     "data": {
      "text/plain": [
       "array([[0., 0., 0., ..., 0., 0., 0.],\n",
       "       [0., 0., 0., ..., 0., 0., 0.],\n",
       "       [0., 0., 0., ..., 0., 0., 0.],\n",
       "       ...,\n",
       "       [0., 0., 0., ..., 0., 0., 0.],\n",
       "       [0., 0., 0., ..., 0., 0., 0.],\n",
       "       [0., 0., 0., ..., 0., 0., 0.]], dtype=float32)"
      ]
     },
     "execution_count": 53,
     "metadata": {},
     "output_type": "execute_result"
    }
   ],
   "source": [
    "X_test.reshape(1200, 2000)"
   ]
  },
  {
   "cell_type": "code",
   "execution_count": null,
   "metadata": {},
   "outputs": [],
   "source": []
  }
 ],
 "metadata": {
  "kernelspec": {
   "display_name": "Python 3",
   "language": "python",
   "name": "python3"
  },
  "language_info": {
   "codemirror_mode": {
    "name": "ipython",
    "version": 3
   },
   "file_extension": ".py",
   "mimetype": "text/x-python",
   "name": "python",
   "nbconvert_exporter": "python",
   "pygments_lexer": "ipython3",
   "version": "3.7.3"
  }
 },
 "nbformat": 4,
 "nbformat_minor": 2
}
