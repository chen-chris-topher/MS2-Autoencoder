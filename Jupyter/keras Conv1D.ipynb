{
 "cells": [
  {
   "cell_type": "code",
   "execution_count": 1,
   "metadata": {},
   "outputs": [
    {
     "name": "stderr",
     "output_type": "stream",
     "text": [
      "Using TensorFlow backend.\n"
     ]
    }
   ],
   "source": [
    "import numpy as np\n",
    "import pandas as pd\n",
    "\n",
    "from keras.layers import Input, Dense, Conv1D, MaxPooling1D, UpSampling1D\n",
    "from keras.models import Model\n",
    "from keras import backend as K"
   ]
  },
  {
   "cell_type": "code",
   "execution_count": 2,
   "metadata": {},
   "outputs": [],
   "source": [
    "file = 'C:/Users/CCheny/Documents/UC San Diego - Junction/Bioinformatics/MS2-Autoencoder/Output/pcholine/ready_array2.npz'"
   ]
  },
  {
   "cell_type": "code",
   "execution_count": 3,
   "metadata": {},
   "outputs": [],
   "source": [
    "data = np.load(file, allow_pickle=True)"
   ]
  },
  {
   "cell_type": "code",
   "execution_count": 4,
   "metadata": {},
   "outputs": [],
   "source": [
    "data = data['arr_0']"
   ]
  },
  {
   "cell_type": "code",
   "execution_count": 5,
   "metadata": {},
   "outputs": [],
   "source": [
    "new_list = np.split(data, 2, axis=1)\n",
    "data2 = new_list[0]\n",
    "data2 = data2.reshape(len(data2), np.prod(data2.shape[1:]))\n",
    "data3 = new_list[1]\n",
    "data3 = data3.reshape(len(data3), np.prod(data3.shape[1:]))"
   ]
  },
  {
   "cell_type": "code",
   "execution_count": 6,
   "metadata": {},
   "outputs": [
    {
     "name": "stdout",
     "output_type": "stream",
     "text": [
      "(1596, 2000)\n",
      "(1596, 2000)\n"
     ]
    }
   ],
   "source": [
    "print(data2.shape)\n",
    "print(data3.shape)"
   ]
  },
  {
   "cell_type": "code",
   "execution_count": 7,
   "metadata": {},
   "outputs": [
    {
     "name": "stdout",
     "output_type": "stream",
     "text": [
      "(1596, 2000, 1)\n",
      "(1596, 2000, 1)\n"
     ]
    }
   ],
   "source": [
    "data2 = np.expand_dims(data2, axis=2)\n",
    "data3 = np.expand_dims(data3, axis=2)\n",
    "print(data2.shape)\n",
    "print(data3.shape)"
   ]
  },
  {
   "cell_type": "code",
   "execution_count": 8,
   "metadata": {},
   "outputs": [
    {
     "name": "stdout",
     "output_type": "stream",
     "text": [
      "(?, 2000, 1)\n",
      "(?, 2000, 1)\n",
      "WARNING:tensorflow:From C:\\ProgramData\\Anaconda3\\lib\\site-packages\\keras\\backend\\tensorflow_backend.py:4070: The name tf.nn.max_pool is deprecated. Please use tf.nn.max_pool2d instead.\n",
      "\n",
      "(?, 1000, 1)\n",
      "(?, 500, 1)\n",
      "(?, 100, 1)\n",
      "(?, 100, 1)\n",
      "(?, 500, 1)\n",
      "(?, 1000, 1)\n",
      "(?, 2000, 1)\n"
     ]
    }
   ],
   "source": [
    "input_size = 2000\n",
    "\n",
    "input_scan = Input(shape=(2000, 1))\n",
    "print(input_scan.shape)\n",
    "hidden_1 = Conv1D(1, (5, ), activation='relu', padding='same')(input_scan)\n",
    "print(hidden_1.shape)\n",
    "hidden_2 = MaxPooling1D()(hidden_1)\n",
    "hidden_3 = Conv1D(1, (5, ), activation='relu', padding='same')(hidden_2)\n",
    "print(hidden_3.shape)\n",
    "hidden_4 = MaxPooling1D()(hidden_3)\n",
    "hidden_5 = Conv1D(1, (5, ), activation='relu', padding='same')(hidden_4)\n",
    "print(hidden_5.shape)\n",
    "encoded = MaxPooling1D((5, ))(hidden_5)\n",
    "print(encoded.shape)\n",
    "\n",
    "hidden_6 = Conv1D(1, (5, ), activation='relu', padding='same')(encoded)\n",
    "print(hidden_6.shape)\n",
    "hidden_7 = UpSampling1D(5)(hidden_6)\n",
    "hidden_8 = Conv1D(1, (5, ), activation='relu', padding='same')(hidden_7)\n",
    "print(hidden_7.shape)\n",
    "hidden_9 = UpSampling1D()(hidden_8)\n",
    "hidden_10 = Conv1D(1, (5, ), activation='relu', padding='same')(hidden_9)\n",
    "print(hidden_10.shape)\n",
    "hidden_11 = UpSampling1D()(hidden_10)\n",
    "decoded = Conv1D(1, (5, ), activation='relu', padding='same')(hidden_11)\n",
    "print(decoded.shape)\n",
    "\n",
    "autoencoder = Model(input_scan, decoded)\n",
    "autoencoder.compile(optimizer='adadelta', loss='cosine_proximity', metrics=['accuracy'])"
   ]
  },
  {
   "cell_type": "code",
   "execution_count": 9,
   "metadata": {},
   "outputs": [
    {
     "name": "stdout",
     "output_type": "stream",
     "text": [
      "Model: \"model_1\"\n",
      "_________________________________________________________________\n",
      "Layer (type)                 Output Shape              Param #   \n",
      "=================================================================\n",
      "input_1 (InputLayer)         (None, 2000, 1)           0         \n",
      "_________________________________________________________________\n",
      "conv1d_1 (Conv1D)            (None, 2000, 1)           6         \n",
      "_________________________________________________________________\n",
      "max_pooling1d_1 (MaxPooling1 (None, 1000, 1)           0         \n",
      "_________________________________________________________________\n",
      "conv1d_2 (Conv1D)            (None, 1000, 1)           6         \n",
      "_________________________________________________________________\n",
      "max_pooling1d_2 (MaxPooling1 (None, 500, 1)            0         \n",
      "_________________________________________________________________\n",
      "conv1d_3 (Conv1D)            (None, 500, 1)            6         \n",
      "_________________________________________________________________\n",
      "max_pooling1d_3 (MaxPooling1 (None, 100, 1)            0         \n",
      "_________________________________________________________________\n",
      "conv1d_4 (Conv1D)            (None, 100, 1)            6         \n",
      "_________________________________________________________________\n",
      "up_sampling1d_1 (UpSampling1 (None, 500, 1)            0         \n",
      "_________________________________________________________________\n",
      "conv1d_5 (Conv1D)            (None, 500, 1)            6         \n",
      "_________________________________________________________________\n",
      "up_sampling1d_2 (UpSampling1 (None, 1000, 1)           0         \n",
      "_________________________________________________________________\n",
      "conv1d_6 (Conv1D)            (None, 1000, 1)           6         \n",
      "_________________________________________________________________\n",
      "up_sampling1d_3 (UpSampling1 (None, 2000, 1)           0         \n",
      "_________________________________________________________________\n",
      "conv1d_7 (Conv1D)            (None, 2000, 1)           6         \n",
      "=================================================================\n",
      "Total params: 42\n",
      "Trainable params: 42\n",
      "Non-trainable params: 0\n",
      "_________________________________________________________________\n"
     ]
    }
   ],
   "source": [
    "autoencoder.summary()"
   ]
  },
  {
   "cell_type": "code",
   "execution_count": 10,
   "metadata": {},
   "outputs": [
    {
     "name": "stdout",
     "output_type": "stream",
     "text": [
      "WARNING:tensorflow:From C:\\ProgramData\\Anaconda3\\lib\\site-packages\\tensorflow\\python\\ops\\math_grad.py:1250: add_dispatch_support.<locals>.wrapper (from tensorflow.python.ops.array_ops) is deprecated and will be removed in a future version.\n",
      "Instructions for updating:\n",
      "Use tf.where in 2.0, which has the same broadcast rule as np.where\n",
      "WARNING:tensorflow:From C:\\ProgramData\\Anaconda3\\lib\\site-packages\\keras\\backend\\tensorflow_backend.py:422: The name tf.global_variables is deprecated. Please use tf.compat.v1.global_variables instead.\n",
      "\n",
      "Epoch 1/50\n",
      "1596/1596 [==============================] - 3s 2ms/step - loss: 0.0000e+00 - accuracy: 0.8888\n",
      "Epoch 2/50\n",
      "1596/1596 [==============================] - 1s 369us/step - loss: 0.0000e+00 - accuracy: 0.8888\n",
      "Epoch 3/50\n",
      "1596/1596 [==============================] - 1s 359us/step - loss: 0.0000e+00 - accuracy: 0.8888\n",
      "Epoch 4/50\n",
      "1596/1596 [==============================] - 1s 374us/step - loss: 0.0000e+00 - accuracy: 0.8888\n",
      "Epoch 5/50\n",
      "1596/1596 [==============================] - 1s 383us/step - loss: 0.0000e+00 - accuracy: 0.8888\n",
      "Epoch 6/50\n",
      "1596/1596 [==============================] - 1s 383us/step - loss: 0.0000e+00 - accuracy: 0.8888\n",
      "Epoch 7/50\n",
      "1596/1596 [==============================] - 1s 387us/step - loss: 0.0000e+00 - accuracy: 0.8888\n",
      "Epoch 8/50\n",
      "1596/1596 [==============================] - 1s 388us/step - loss: 0.0000e+00 - accuracy: 0.8888\n",
      "Epoch 9/50\n",
      "1596/1596 [==============================] - 1s 381us/step - loss: 0.0000e+00 - accuracy: 0.8888\n",
      "Epoch 10/50\n",
      "1596/1596 [==============================] - 1s 390us/step - loss: 0.0000e+00 - accuracy: 0.8888\n",
      "Epoch 11/50\n",
      "1596/1596 [==============================] - 1s 381us/step - loss: 0.0000e+00 - accuracy: 0.8888\n",
      "Epoch 12/50\n",
      "1596/1596 [==============================] - 1s 400us/step - loss: 0.0000e+00 - accuracy: 0.8888\n",
      "Epoch 13/50\n",
      "1596/1596 [==============================] - 1s 414us/step - loss: 0.0000e+00 - accuracy: 0.8888\n",
      "Epoch 14/50\n",
      "1596/1596 [==============================] - 1s 427us/step - loss: 0.0000e+00 - accuracy: 0.8888\n",
      "Epoch 15/50\n",
      "1596/1596 [==============================] - 1s 424us/step - loss: 0.0000e+00 - accuracy: 0.8888\n",
      "Epoch 16/50\n",
      "1596/1596 [==============================] - 1s 412us/step - loss: 0.0000e+00 - accuracy: 0.8888\n",
      "Epoch 17/50\n",
      "1596/1596 [==============================] - 1s 398us/step - loss: 0.0000e+00 - accuracy: 0.8888\n",
      "Epoch 18/50\n",
      "1596/1596 [==============================] - 1s 385us/step - loss: 0.0000e+00 - accuracy: 0.8888\n",
      "Epoch 19/50\n",
      "1596/1596 [==============================] - 1s 379us/step - loss: 0.0000e+00 - accuracy: 0.8888\n",
      "Epoch 20/50\n",
      "1596/1596 [==============================] - 1s 387us/step - loss: 0.0000e+00 - accuracy: 0.8888\n",
      "Epoch 21/50\n",
      "1596/1596 [==============================] - 1s 385us/step - loss: 0.0000e+00 - accuracy: 0.8888\n",
      "Epoch 22/50\n",
      "1596/1596 [==============================] - 1s 376us/step - loss: 0.0000e+00 - accuracy: 0.8888\n",
      "Epoch 23/50\n",
      "1596/1596 [==============================] - 1s 381us/step - loss: 0.0000e+00 - accuracy: 0.8888\n",
      "Epoch 24/50\n",
      "1596/1596 [==============================] - 1s 371us/step - loss: 0.0000e+00 - accuracy: 0.8888\n",
      "Epoch 25/50\n",
      "1596/1596 [==============================] - 1s 372us/step - loss: 0.0000e+00 - accuracy: 0.8888\n",
      "Epoch 26/50\n",
      "1596/1596 [==============================] - 1s 377us/step - loss: 0.0000e+00 - accuracy: 0.8888\n",
      "Epoch 27/50\n",
      "1596/1596 [==============================] - 1s 387us/step - loss: 0.0000e+00 - accuracy: 0.8888\n",
      "Epoch 28/50\n",
      "1596/1596 [==============================] - 1s 388us/step - loss: 0.0000e+00 - accuracy: 0.8888\n",
      "Epoch 29/50\n",
      "1596/1596 [==============================] - 1s 379us/step - loss: 0.0000e+00 - accuracy: 0.8888\n",
      "Epoch 30/50\n",
      "1596/1596 [==============================] - 1s 379us/step - loss: 0.0000e+00 - accuracy: 0.8888\n",
      "Epoch 31/50\n",
      "1596/1596 [==============================] - 1s 384us/step - loss: 0.0000e+00 - accuracy: 0.8888\n",
      "Epoch 32/50\n",
      "1596/1596 [==============================] - 1s 378us/step - loss: 0.0000e+00 - accuracy: 0.8888\n",
      "Epoch 33/50\n",
      "1596/1596 [==============================] - 1s 382us/step - loss: 0.0000e+00 - accuracy: 0.8888\n",
      "Epoch 34/50\n",
      "1596/1596 [==============================] - 1s 379us/step - loss: 0.0000e+00 - accuracy: 0.8888\n",
      "Epoch 35/50\n",
      "1596/1596 [==============================] - 1s 383us/step - loss: 0.0000e+00 - accuracy: 0.8888\n",
      "Epoch 36/50\n",
      "1596/1596 [==============================] - 1s 380us/step - loss: 0.0000e+00 - accuracy: 0.8888\n",
      "Epoch 37/50\n",
      "1596/1596 [==============================] - 1s 386us/step - loss: 0.0000e+00 - accuracy: 0.8888\n",
      "Epoch 38/50\n",
      "1596/1596 [==============================] - 1s 390us/step - loss: 0.0000e+00 - accuracy: 0.8888\n",
      "Epoch 39/50\n",
      "1596/1596 [==============================] - 1s 385us/step - loss: 0.0000e+00 - accuracy: 0.8888\n",
      "Epoch 40/50\n",
      "1596/1596 [==============================] - 1s 383us/step - loss: 0.0000e+00 - accuracy: 0.8888\n",
      "Epoch 41/50\n",
      "1596/1596 [==============================] - 1s 379us/step - loss: 0.0000e+00 - accuracy: 0.8888\n",
      "Epoch 42/50\n",
      "1596/1596 [==============================] - 1s 384us/step - loss: 0.0000e+00 - accuracy: 0.8888\n",
      "Epoch 43/50\n",
      "1596/1596 [==============================] - 1s 378us/step - loss: 0.0000e+00 - accuracy: 0.8888\n",
      "Epoch 44/50\n",
      "1596/1596 [==============================] - 1s 382us/step - loss: 0.0000e+00 - accuracy: 0.8888\n",
      "Epoch 45/50\n",
      "1596/1596 [==============================] - 1s 378us/step - loss: 0.0000e+00 - accuracy: 0.8888\n",
      "Epoch 46/50\n",
      "1596/1596 [==============================] - 1s 378us/step - loss: 0.0000e+00 - accuracy: 0.8888\n",
      "Epoch 47/50\n",
      "1596/1596 [==============================] - 1s 379us/step - loss: 0.0000e+00 - accuracy: 0.8888\n",
      "Epoch 48/50\n",
      "1596/1596 [==============================] - 1s 379us/step - loss: 0.0000e+00 - accuracy: 0.8888\n",
      "Epoch 49/50\n",
      "1596/1596 [==============================] - 1s 382us/step - loss: 0.0000e+00 - accuracy: 0.8888\n",
      "Epoch 50/50\n",
      "1596/1596 [==============================] - 1s 387us/step - loss: 0.0000e+00 - accuracy: 0.8888\n"
     ]
    },
    {
     "data": {
      "text/plain": [
       "<keras.callbacks.callbacks.History at 0x1ab261f9da0>"
      ]
     },
     "execution_count": 10,
     "metadata": {},
     "output_type": "execute_result"
    }
   ],
   "source": [
    "autoencoder.fit(data2, data3,\n",
    "               epochs=50,\n",
    "               batch_size=100)"
   ]
  },
  {
   "cell_type": "code",
   "execution_count": null,
   "metadata": {},
   "outputs": [],
   "source": []
  }
 ],
 "metadata": {
  "kernelspec": {
   "display_name": "Python 3",
   "language": "python",
   "name": "python3"
  },
  "language_info": {
   "codemirror_mode": {
    "name": "ipython",
    "version": 3
   },
   "file_extension": ".py",
   "mimetype": "text/x-python",
   "name": "python",
   "nbconvert_exporter": "python",
   "pygments_lexer": "ipython3",
   "version": "3.7.3"
  }
 },
 "nbformat": 4,
 "nbformat_minor": 2
}
