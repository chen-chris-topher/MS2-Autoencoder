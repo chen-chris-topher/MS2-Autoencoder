{
 "cells": [
  {
   "cell_type": "code",
   "execution_count": 1,
   "metadata": {},
   "outputs": [
    {
     "name": "stderr",
     "output_type": "stream",
     "text": [
      "Using TensorFlow backend.\n"
     ]
    }
   ],
   "source": [
    "import numpy as np\n",
    "import pandas as pd\n",
    "\n",
    "from keras.layers import Input, Dense, Conv1D, MaxPooling1D, UpSampling1D\n",
    "from keras.models import Model\n",
    "from keras import backend as K"
   ]
  },
  {
   "cell_type": "code",
   "execution_count": 2,
   "metadata": {},
   "outputs": [],
   "source": [
    "file = 'C:/Users/CCheny/Documents/UC San Diego - Junction/Bioinformatics/MS2-Autoencoder/Output/pcholine/ready_array2.npz'"
   ]
  },
  {
   "cell_type": "code",
   "execution_count": 3,
   "metadata": {},
   "outputs": [],
   "source": [
    "data = np.load(file, allow_pickle=True)"
   ]
  },
  {
   "cell_type": "code",
   "execution_count": 4,
   "metadata": {},
   "outputs": [],
   "source": [
    "data = data['arr_0']"
   ]
  },
  {
   "cell_type": "code",
   "execution_count": 5,
   "metadata": {},
   "outputs": [],
   "source": [
    "new_list = np.split(data, 2, axis=1)\n",
    "data2 = new_list[0]\n",
    "data2 = data2.reshape(len(data2), np.prod(data2.shape[1:]))\n",
    "data3 = new_list[1]\n",
    "data3 = data3.reshape(len(data3), np.prod(data3.shape[1:]))"
   ]
  },
  {
   "cell_type": "code",
   "execution_count": 6,
   "metadata": {},
   "outputs": [
    {
     "name": "stdout",
     "output_type": "stream",
     "text": [
      "(1596, 2000)\n",
      "(1596, 2000)\n"
     ]
    }
   ],
   "source": [
    "print(data2.shape)\n",
    "print(data3.shape)"
   ]
  },
  {
   "cell_type": "code",
   "execution_count": 7,
   "metadata": {},
   "outputs": [
    {
     "name": "stdout",
     "output_type": "stream",
     "text": [
      "(?, 2000)\n",
      "(?, 1000)\n",
      "(?, 500)\n",
      "(?, 100)\n",
      "(?, 500)\n",
      "(?, 1000)\n",
      "(?, 2000)\n"
     ]
    }
   ],
   "source": [
    "input_size = 2000\n",
    "\n",
    "input_scan = Input(shape=(2000,))\n",
    "print(input_scan.shape)\n",
    "hidden_1 = Dense(1000, activation='relu')(input_scan)\n",
    "print(hidden_1.shape)\n",
    "hidden_2 = Dense(500, activation='relu')(hidden_1)\n",
    "print(hidden_2.shape)\n",
    "encoded = Dense(100, activation='relu')(hidden_2)\n",
    "print(encoded.shape)\n",
    "hidden_3 = Dense(500, activation='relu')(hidden_2)\n",
    "print(hidden_3.shape)\n",
    "hidden_4 = Dense(1000, activation='relu')(hidden_3)\n",
    "print(hidden_4.shape)\n",
    "decoded = Dense(2000, activation='relu')(hidden_4)\n",
    "print(decoded.shape)\n",
    "\n",
    "autoencoder = Model(input_scan, decoded)\n",
    "autoencoder.compile(optimizer='adadelta', loss='cosine_proximity', metrics=['accuracy'])"
   ]
  },
  {
   "cell_type": "code",
   "execution_count": 8,
   "metadata": {},
   "outputs": [
    {
     "name": "stdout",
     "output_type": "stream",
     "text": [
      "Model: \"model_1\"\n",
      "_________________________________________________________________\n",
      "Layer (type)                 Output Shape              Param #   \n",
      "=================================================================\n",
      "input_1 (InputLayer)         (None, 2000)              0         \n",
      "_________________________________________________________________\n",
      "dense_1 (Dense)              (None, 1000)              2001000   \n",
      "_________________________________________________________________\n",
      "dense_2 (Dense)              (None, 500)               500500    \n",
      "_________________________________________________________________\n",
      "dense_4 (Dense)              (None, 500)               250500    \n",
      "_________________________________________________________________\n",
      "dense_5 (Dense)              (None, 1000)              501000    \n",
      "_________________________________________________________________\n",
      "dense_6 (Dense)              (None, 2000)              2002000   \n",
      "=================================================================\n",
      "Total params: 5,255,000\n",
      "Trainable params: 5,255,000\n",
      "Non-trainable params: 0\n",
      "_________________________________________________________________\n"
     ]
    }
   ],
   "source": [
    "autoencoder.summary()"
   ]
  },
  {
   "cell_type": "code",
   "execution_count": 9,
   "metadata": {},
   "outputs": [
    {
     "name": "stdout",
     "output_type": "stream",
     "text": [
      "WARNING:tensorflow:From C:\\ProgramData\\Anaconda3\\lib\\site-packages\\tensorflow\\python\\ops\\math_grad.py:1250: add_dispatch_support.<locals>.wrapper (from tensorflow.python.ops.array_ops) is deprecated and will be removed in a future version.\n",
      "Instructions for updating:\n",
      "Use tf.where in 2.0, which has the same broadcast rule as np.where\n",
      "WARNING:tensorflow:From C:\\ProgramData\\Anaconda3\\lib\\site-packages\\keras\\backend\\tensorflow_backend.py:422: The name tf.global_variables is deprecated. Please use tf.compat.v1.global_variables instead.\n",
      "\n",
      "Epoch 1/50\n",
      "1596/1596 [==============================] - 1s 658us/step - loss: -0.3566 - accuracy: 0.3496\n",
      "Epoch 2/50\n",
      "1596/1596 [==============================] - 1s 365us/step - loss: -0.6087 - accuracy: 0.5363\n",
      "Epoch 3/50\n",
      "1596/1596 [==============================] - 1s 364us/step - loss: -0.6845 - accuracy: 0.6272\n",
      "Epoch 4/50\n",
      "1596/1596 [==============================] - 1s 363us/step - loss: -0.7181 - accuracy: 0.6566\n",
      "Epoch 5/50\n",
      "1596/1596 [==============================] - 1s 365us/step - loss: -0.7405 - accuracy: 0.6723\n",
      "Epoch 6/50\n",
      "1596/1596 [==============================] - 1s 371us/step - loss: -0.7564 - accuracy: 0.6861\n",
      "Epoch 7/50\n",
      "1596/1596 [==============================] - 1s 364us/step - loss: -0.7653 - accuracy: 0.6980\n",
      "Epoch 8/50\n",
      "1596/1596 [==============================] - 1s 365us/step - loss: -0.7704 - accuracy: 0.7061\n",
      "Epoch 9/50\n",
      "1596/1596 [==============================] - 1s 365us/step - loss: -0.7765 - accuracy: 0.7068\n",
      "Epoch 10/50\n",
      "1596/1596 [==============================] - 1s 365us/step - loss: -0.7826 - accuracy: 0.7149\n",
      "Epoch 11/50\n",
      "1596/1596 [==============================] - 1s 363us/step - loss: -0.7847 - accuracy: 0.7149\n",
      "Epoch 12/50\n",
      "1596/1596 [==============================] - 1s 364us/step - loss: -0.7863 - accuracy: 0.7180\n",
      "Epoch 13/50\n",
      "1596/1596 [==============================] - 1s 360us/step - loss: -0.7896 - accuracy: 0.7206\n",
      "Epoch 14/50\n",
      "1596/1596 [==============================] - 1s 368us/step - loss: -0.7916 - accuracy: 0.7249\n",
      "Epoch 15/50\n",
      "1596/1596 [==============================] - 1s 364us/step - loss: -0.7926 - accuracy: 0.7287\n",
      "Epoch 16/50\n",
      "1596/1596 [==============================] - 1s 365us/step - loss: -0.7945 - accuracy: 0.7281\n",
      "Epoch 17/50\n",
      "1596/1596 [==============================] - 1s 366us/step - loss: -0.7967 - accuracy: 0.7293\n",
      "Epoch 18/50\n",
      "1596/1596 [==============================] - 1s 369us/step - loss: -0.7975 - accuracy: 0.7287\n",
      "Epoch 19/50\n",
      "1596/1596 [==============================] - 1s 366us/step - loss: -0.7980 - accuracy: 0.7444\n",
      "Epoch 20/50\n",
      "1596/1596 [==============================] - 1s 367us/step - loss: -0.7995 - accuracy: 0.7350\n",
      "Epoch 21/50\n",
      "1596/1596 [==============================] - 1s 365us/step - loss: -0.7998 - accuracy: 0.7381 0s - loss: -0.7996 - accuracy: \n",
      "Epoch 22/50\n",
      "1596/1596 [==============================] - 1s 370us/step - loss: -0.8011 - accuracy: 0.7343 0s - loss: -0.8065 - accuracy: \n",
      "Epoch 23/50\n",
      "1596/1596 [==============================] - 1s 371us/step - loss: -0.8015 - accuracy: 0.7412\n",
      "Epoch 24/50\n",
      "1596/1596 [==============================] - 1s 369us/step - loss: -0.8020 - accuracy: 0.7393\n",
      "Epoch 25/50\n",
      "1596/1596 [==============================] - 1s 370us/step - loss: -0.8028 - accuracy: 0.7293\n",
      "Epoch 26/50\n",
      "1596/1596 [==============================] - ETA: 0s - loss: -0.8026 - accuracy: 0.734 - 1s 376us/step - loss: -0.8037 - accuracy: 0.7356\n",
      "Epoch 27/50\n",
      "1596/1596 [==============================] - 1s 371us/step - loss: -0.8045 - accuracy: 0.7437\n",
      "Epoch 28/50\n",
      "1596/1596 [==============================] - 1s 364us/step - loss: -0.8050 - accuracy: 0.7412\n",
      "Epoch 29/50\n",
      "1596/1596 [==============================] - 1s 366us/step - loss: -0.8049 - accuracy: 0.7456\n",
      "Epoch 30/50\n",
      "1596/1596 [==============================] - 1s 377us/step - loss: -0.8057 - accuracy: 0.7400\n",
      "Epoch 31/50\n",
      "1596/1596 [==============================] - 1s 376us/step - loss: -0.8063 - accuracy: 0.7475\n",
      "Epoch 32/50\n",
      "1596/1596 [==============================] - 1s 371us/step - loss: -0.8063 - accuracy: 0.7475\n",
      "Epoch 33/50\n",
      "1596/1596 [==============================] - 1s 382us/step - loss: -0.8069 - accuracy: 0.7406\n",
      "Epoch 34/50\n",
      "1596/1596 [==============================] - 1s 367us/step - loss: -0.8072 - accuracy: 0.7431\n",
      "Epoch 35/50\n",
      "1596/1596 [==============================] - 1s 375us/step - loss: -0.8073 - accuracy: 0.7437\n",
      "Epoch 36/50\n",
      "1596/1596 [==============================] - 1s 371us/step - loss: -0.8077 - accuracy: 0.7412\n",
      "Epoch 37/50\n",
      "1596/1596 [==============================] - 1s 377us/step - loss: -0.8078 - accuracy: 0.7406\n",
      "Epoch 38/50\n",
      "1596/1596 [==============================] - 1s 369us/step - loss: -0.8080 - accuracy: 0.7425\n",
      "Epoch 39/50\n",
      "1596/1596 [==============================] - 1s 368us/step - loss: -0.8083 - accuracy: 0.7425\n",
      "Epoch 40/50\n",
      "1596/1596 [==============================] - 1s 374us/step - loss: -0.8083 - accuracy: 0.7412\n",
      "Epoch 41/50\n",
      "1596/1596 [==============================] - 1s 365us/step - loss: -0.8115 - accuracy: 0.7500\n",
      "Epoch 42/50\n",
      "1596/1596 [==============================] - 1s 364us/step - loss: -0.8154 - accuracy: 0.7437\n",
      "Epoch 43/50\n",
      "1596/1596 [==============================] - 1s 365us/step - loss: -0.8157 - accuracy: 0.7444\n",
      "Epoch 44/50\n",
      "1596/1596 [==============================] - 1s 365us/step - loss: -0.8159 - accuracy: 0.7494\n",
      "Epoch 45/50\n",
      "1596/1596 [==============================] - 1s 366us/step - loss: -0.8167 - accuracy: 0.7425\n",
      "Epoch 46/50\n",
      "1596/1596 [==============================] - 1s 367us/step - loss: -0.8167 - accuracy: 0.7437\n",
      "Epoch 47/50\n",
      "1596/1596 [==============================] - 1s 375us/step - loss: -0.8169 - accuracy: 0.7444\n",
      "Epoch 48/50\n",
      "1596/1596 [==============================] - 1s 366us/step - loss: -0.8170 - accuracy: 0.7462\n",
      "Epoch 49/50\n",
      "1596/1596 [==============================] - 1s 362us/step - loss: -0.8175 - accuracy: 0.7469\n",
      "Epoch 50/50\n",
      "1596/1596 [==============================] - 1s 363us/step - loss: -0.8175 - accuracy: 0.7444\n"
     ]
    },
    {
     "data": {
      "text/plain": [
       "<keras.callbacks.callbacks.History at 0x2577543bba8>"
      ]
     },
     "execution_count": 9,
     "metadata": {},
     "output_type": "execute_result"
    }
   ],
   "source": [
    "autoencoder.fit(data2, data3,\n",
    "               epochs=50,\n",
    "               batch_size=100)"
   ]
  },
  {
   "cell_type": "code",
   "execution_count": null,
   "metadata": {},
   "outputs": [],
   "source": []
  }
 ],
 "metadata": {
  "kernelspec": {
   "display_name": "Python 3",
   "language": "python",
   "name": "python3"
  },
  "language_info": {
   "codemirror_mode": {
    "name": "ipython",
    "version": 3
   },
   "file_extension": ".py",
   "mimetype": "text/x-python",
   "name": "python",
   "nbconvert_exporter": "python",
   "pygments_lexer": "ipython3",
   "version": "3.7.3"
  }
 },
 "nbformat": 4,
 "nbformat_minor": 2
}
