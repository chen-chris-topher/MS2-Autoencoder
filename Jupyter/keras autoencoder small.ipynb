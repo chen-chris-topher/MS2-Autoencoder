{
 "cells": [
  {
   "cell_type": "markdown",
   "metadata": {},
   "source": [
    "## ready_array2.npz as dataset"
   ]
  },
  {
   "cell_type": "code",
   "execution_count": 1,
   "metadata": {},
   "outputs": [],
   "source": [
    "import numpy as np\n",
    "import random\n",
    "import pandas as pd\n",
    "import h5py"
   ]
  },
  {
   "cell_type": "code",
   "execution_count": 2,
   "metadata": {},
   "outputs": [],
   "source": [
    "cholesterol = 'C:/Users/CCheny/Documents/UC San Diego - Junction/Bioinformatics/MS2-Autoencoder/Output/cholesterol/ready_array2.npz'\n",
    "cortisol = 'C:/Users/CCheny/Documents/UC San Diego - Junction/Bioinformatics/MS2-Autoencoder/Output/cortisol/ready_array2.npz'"
   ]
  },
  {
   "cell_type": "code",
   "execution_count": 3,
   "metadata": {},
   "outputs": [],
   "source": [
    "file1 = np.load(cholesterol, allow_pickle=True)\n",
    "file2 = np.load(cortisol, allow_pickle=True)\n",
    "data1 = file1['arr_0']\n",
    "data2 = file2['arr_0']"
   ]
  },
  {
   "cell_type": "code",
   "execution_count": 4,
   "metadata": {},
   "outputs": [
    {
     "data": {
      "text/plain": [
       "tuple"
      ]
     },
     "execution_count": 4,
     "metadata": {},
     "output_type": "execute_result"
    }
   ],
   "source": [
    "data = np.concatenate((data1, data2), axis=0)\n",
    "type(data.shape)"
   ]
  },
  {
   "cell_type": "markdown",
   "metadata": {},
   "source": [
    "### hdf5"
   ]
  },
  {
   "cell_type": "code",
   "execution_count": 5,
   "metadata": {},
   "outputs": [],
   "source": [
    "file = 'C:/Users/CCheny/Documents/UC San Diego - Junction/Bioinformatics/MS2-Autoencoder/chemical_split_data.hdf5'"
   ]
  },
  {
   "cell_type": "code",
   "execution_count": 6,
   "metadata": {},
   "outputs": [],
   "source": [
    "f = h5py.File(file, 'r')"
   ]
  },
  {
   "cell_type": "code",
   "execution_count": 7,
   "metadata": {},
   "outputs": [
    {
     "name": "stdout",
     "output_type": "stream",
     "text": [
      "(110881, 1, 2000)\n",
      "(110881, 1, 2000)\n"
     ]
    }
   ],
   "source": [
    "dataset_low = f['low_peaks']\n",
    "dataset_high = f['high_peaks']\n",
    "print(dataset_low.shape)\n",
    "print(dataset_high.shape)"
   ]
  },
  {
   "cell_type": "code",
   "execution_count": null,
   "metadata": {},
   "outputs": [],
   "source": []
  },
  {
   "cell_type": "markdown",
   "metadata": {},
   "source": [
    "## processing"
   ]
  },
  {
   "cell_type": "code",
   "execution_count": 8,
   "metadata": {},
   "outputs": [],
   "source": [
    "#random.shuffle(data)\n",
    "new_list = np.split(data, 2, axis=1)"
   ]
  },
  {
   "cell_type": "code",
   "execution_count": 9,
   "metadata": {},
   "outputs": [
    {
     "name": "stdout",
     "output_type": "stream",
     "text": [
      "(10130, 1, 2000)\n",
      "(10130, 1, 2000)\n"
     ]
    }
   ],
   "source": [
    "low_peaks = new_list[0]\n",
    "low_peaks = low_peaks.astype('float32')\n",
    "print(low_peaks.shape)\n",
    "high_peaks = new_list[1]\n",
    "high_peaks = high_peaks.astype('float32')\n",
    "print(high_peaks.shape)"
   ]
  },
  {
   "cell_type": "code",
   "execution_count": 7,
   "metadata": {},
   "outputs": [],
   "source": [
    "size = low_peaks.shape"
   ]
  },
  {
   "cell_type": "code",
   "execution_count": 55,
   "metadata": {},
   "outputs": [
    {
     "name": "stdout",
     "output_type": "stream",
     "text": [
      "<KeysViewHDF5 ['high_peaks', 'low_peaks']>\n"
     ]
    }
   ],
   "source": [
    "with h5py.File('training_data.hdf5', 'w') as f:\n",
    "    dataset = f.create_dataset('low_peaks', data=low_peaks, shape=low_peaks.shape, dtype='f4')\n",
    "    dataset = f.create_dataset('high_peaks', data=high_peaks, shape=high_peaks.shape, dtype='f4')\n",
    "    print(f.keys())"
   ]
  },
  {
   "cell_type": "code",
   "execution_count": 48,
   "metadata": {},
   "outputs": [
    {
     "name": "stdout",
     "output_type": "stream",
     "text": [
      "10130\n"
     ]
    }
   ],
   "source": [
    "with h5py.File('training_data.hdf5', 'r') as f:\n",
    "    low_peaks = f['low_peaks']\n",
    "    print(low_peaks.len())\n",
    "    high_peaks = f['high_peaks']"
   ]
  },
  {
   "cell_type": "code",
   "execution_count": 8,
   "metadata": {},
   "outputs": [],
   "source": [
    "def normalize_peaks(peaks_array):\n",
    "    for i in range(0, len(peaks_array)):\n",
    "        peak_max = np.amax(peaks_array[i])\n",
    "        if peak_max==0.0:\n",
    "            peaks_array[i] = peaks_array[i]\n",
    "        else:\n",
    "            peaks_array[i] = peaks_array[i] / peak_max\n",
    "    return peaks_array"
   ]
  },
  {
   "cell_type": "code",
   "execution_count": 31,
   "metadata": {},
   "outputs": [],
   "source": [
    "def normalize_peaks2(peaks_array):\n",
    "    from sklearn.preprocessing import normalize\n",
    "    \n",
    "    for i in range(0, len(peaks_array)):\n",
    "        peaks_array[i] = normalize(peaks_array[i], norm='l1')\n",
    "    return peaks_array"
   ]
  },
  {
   "cell_type": "code",
   "execution_count": 32,
   "metadata": {
    "scrolled": true
   },
   "outputs": [],
   "source": [
    "low_peaks_norm = normalize_peaks2(low_peaks)\n",
    "high_peaks_norm = normalize_peaks2(high_peaks)"
   ]
  },
  {
   "cell_type": "markdown",
   "metadata": {},
   "source": [
    "## keras"
   ]
  },
  {
   "cell_type": "code",
   "execution_count": 33,
   "metadata": {},
   "outputs": [],
   "source": [
    "from keras.layers import Input, Dense, Conv1D, MaxPooling1D, UpSampling1D, BatchNormalization\n",
    "from keras.models import Model\n",
    "from keras import backend as K\n",
    "from keras import regularizers"
   ]
  },
  {
   "cell_type": "code",
   "execution_count": 34,
   "metadata": {},
   "outputs": [],
   "source": [
    "X = low_peaks_norm\n",
    "y = high_peaks_norm"
   ]
  },
  {
   "cell_type": "code",
   "execution_count": 35,
   "metadata": {},
   "outputs": [
    {
     "data": {
      "text/plain": [
       "'\\nXcut = int(0.8*len(X))\\nX_train = X[:Xcut,:,:]\\nX_test = X[Xcut:,:,:]\\nprint(X_train.shape)\\nprint(X_test.shape)\\nX_train = X_train.reshape(len(X_train), np.prod(X_train.shape[1:]))\\nX_test = X_test.reshape(len(X_test), np.prod(X_test.shape[1:]))\\nprint(X_train.shape)\\nprint(X_test.shape)\\n\\nycut = int(0.8*len(y))\\ny_train = y[:ycut,:,:]\\ny_test = y[ycut:,:,:]\\nprint(y_train.shape)\\nprint(y_test.shape)\\ny_train = y_train.reshape(len(y_train), np.prod(y_train.shape[1:]))\\ny_test = y_test.reshape(len(y_test), np.prod(y_test.shape[1:]))\\nprint(y_train.shape)\\nprint(y_test.shape)\\n'"
      ]
     },
     "execution_count": 35,
     "metadata": {},
     "output_type": "execute_result"
    }
   ],
   "source": [
    "'''\n",
    "Xcut = int(0.8*len(X))\n",
    "X_train = X[:Xcut,:,:]\n",
    "X_test = X[Xcut:,:,:]\n",
    "print(X_train.shape)\n",
    "print(X_test.shape)\n",
    "X_train = X_train.reshape(len(X_train), np.prod(X_train.shape[1:]))\n",
    "X_test = X_test.reshape(len(X_test), np.prod(X_test.shape[1:]))\n",
    "print(X_train.shape)\n",
    "print(X_test.shape)\n",
    "\n",
    "ycut = int(0.8*len(y))\n",
    "y_train = y[:ycut,:,:]\n",
    "y_test = y[ycut:,:,:]\n",
    "print(y_train.shape)\n",
    "print(y_test.shape)\n",
    "y_train = y_train.reshape(len(y_train), np.prod(y_train.shape[1:]))\n",
    "y_test = y_test.reshape(len(y_test), np.prod(y_test.shape[1:]))\n",
    "print(y_train.shape)\n",
    "print(y_test.shape)\n",
    "'''"
   ]
  },
  {
   "cell_type": "code",
   "execution_count": 36,
   "metadata": {},
   "outputs": [
    {
     "name": "stdout",
     "output_type": "stream",
     "text": [
      "(10130, 1, 2000)\n",
      "(10130, 2000)\n",
      "(10130, 1, 2000)\n",
      "(10130, 2000)\n"
     ]
    }
   ],
   "source": [
    "X_train = X[:,:,:]\n",
    "print(X_train.shape)\n",
    "X_train = X_train.reshape(len(X_train), np.prod(X_train.shape[1:]))\n",
    "print(X_train.shape)\n",
    "\n",
    "y_train = y[:,:,:]\n",
    "print(y_train.shape)\n",
    "y_train = y_train.reshape(len(y_train), np.prod(y_train.shape[1:]))\n",
    "print(y_train.shape)"
   ]
  },
  {
   "cell_type": "code",
   "execution_count": 37,
   "metadata": {},
   "outputs": [],
   "source": [
    "input_size = 2000\n",
    "encoding_dim = 100\n",
    "\n",
    "input_scan = Input(shape=(input_size, ))\n",
    "hidden_1 = Dense(1000, activation='relu')(input_scan) #encoded is the encoded representation of the input\n",
    "hidden_2 = Dense(500, activation='relu')(hidden_1)\n",
    "encoded = Dense(encoding_dim, activation='relu')(hidden_2)\n",
    "hidden_3 = Dense(500, activation='relu')(encoded)\n",
    "hidden_4 = Dense(1000, activation='relu')(hidden_3)\n",
    "decoded = Dense(input_size, activation='relu')(hidden_4) #decoded is the reconstruction of the input\n",
    "\n",
    "autoencoder = Model(input_scan, decoded) #this model maps an input to its reconstructions"
   ]
  },
  {
   "cell_type": "code",
   "execution_count": 38,
   "metadata": {},
   "outputs": [],
   "source": [
    "autoencoder.compile(optimizer='adadelta', loss='cosine_proximity', metrics=['accuracy'])"
   ]
  },
  {
   "cell_type": "code",
   "execution_count": 39,
   "metadata": {},
   "outputs": [
    {
     "name": "stdout",
     "output_type": "stream",
     "text": [
      "Model: \"model_2\"\n",
      "_________________________________________________________________\n",
      "Layer (type)                 Output Shape              Param #   \n",
      "=================================================================\n",
      "input_2 (InputLayer)         (None, 2000)              0         \n",
      "_________________________________________________________________\n",
      "dense_7 (Dense)              (None, 1000)              2001000   \n",
      "_________________________________________________________________\n",
      "dense_8 (Dense)              (None, 500)               500500    \n",
      "_________________________________________________________________\n",
      "dense_9 (Dense)              (None, 100)               50100     \n",
      "_________________________________________________________________\n",
      "dense_10 (Dense)             (None, 500)               50500     \n",
      "_________________________________________________________________\n",
      "dense_11 (Dense)             (None, 1000)              501000    \n",
      "_________________________________________________________________\n",
      "dense_12 (Dense)             (None, 2000)              2002000   \n",
      "=================================================================\n",
      "Total params: 5,105,100\n",
      "Trainable params: 5,105,100\n",
      "Non-trainable params: 0\n",
      "_________________________________________________________________\n"
     ]
    }
   ],
   "source": [
    "autoencoder.summary()"
   ]
  },
  {
   "cell_type": "code",
   "execution_count": 40,
   "metadata": {
    "scrolled": true
   },
   "outputs": [
    {
     "name": "stdout",
     "output_type": "stream",
     "text": [
      "Epoch 1/50\n",
      "10130/10130 [==============================] - 4s 393us/step - loss: -0.3483 - accuracy: 0.2220\n",
      "Epoch 2/50\n",
      "10130/10130 [==============================] - 4s 373us/step - loss: -0.5162 - accuracy: 0.3851\n",
      "Epoch 3/50\n",
      "10130/10130 [==============================] - ETA: 0s - loss: -0.5835 - accuracy: 0.467 - 4s 375us/step - loss: -0.5837 - accuracy: 0.4677\n",
      "Epoch 4/50\n",
      "10130/10130 [==============================] - 4s 375us/step - loss: -0.6183 - accuracy: 0.5044\n",
      "Epoch 5/50\n",
      "10130/10130 [==============================] - 4s 375us/step - loss: -0.6345 - accuracy: 0.5272\n",
      "Epoch 6/50\n",
      "10130/10130 [==============================] - 4s 380us/step - loss: -0.6447 - accuracy: 0.5375\n",
      "Epoch 7/50\n",
      "10130/10130 [==============================] - 4s 403us/step - loss: -0.6559 - accuracy: 0.5520\n",
      "Epoch 8/50\n",
      "10130/10130 [==============================] - ETA: 0s - loss: -0.6611 - accuracy: 0.557 - 4s 391us/step - loss: -0.6613 - accuracy: 0.5578\n",
      "Epoch 9/50\n",
      "10130/10130 [==============================] - 4s 390us/step - loss: -0.6669 - accuracy: 0.5637\n",
      "Epoch 10/50\n",
      "10130/10130 [==============================] - 4s 391us/step - loss: -0.6677 - accuracy: 0.5682\n",
      "Epoch 11/50\n",
      "10130/10130 [==============================] - 4s 393us/step - loss: -0.6739 - accuracy: 0.5726\n",
      "Epoch 12/50\n",
      "10130/10130 [==============================] - 4s 384us/step - loss: -0.6755 - accuracy: 0.5723\n",
      "Epoch 13/50\n",
      "10130/10130 [==============================] - 4s 386us/step - loss: -0.6786 - accuracy: 0.5766\n",
      "Epoch 14/50\n",
      "10130/10130 [==============================] - 4s 391us/step - loss: -0.6808 - accuracy: 0.5798\n",
      "Epoch 15/50\n",
      "10130/10130 [==============================] - 4s 380us/step - loss: -0.6867 - accuracy: 0.5863\n",
      "Epoch 16/50\n",
      "10130/10130 [==============================] - 4s 390us/step - loss: -0.6868 - accuracy: 0.5875\n",
      "Epoch 17/50\n",
      "10130/10130 [==============================] - 4s 375us/step - loss: -0.6882 - accuracy: 0.5878\n",
      "Epoch 18/50\n",
      "10130/10130 [==============================] - 4s 381us/step - loss: -0.6892 - accuracy: 0.5930\n",
      "Epoch 19/50\n",
      "10130/10130 [==============================] - 4s 388us/step - loss: -0.6910 - accuracy: 0.5909\n",
      "Epoch 20/50\n",
      "10130/10130 [==============================] - 4s 376us/step - loss: -0.6920 - accuracy: 0.5975\n",
      "Epoch 21/50\n",
      "10130/10130 [==============================] - 4s 379us/step - loss: -0.6933 - accuracy: 0.5959\n",
      "Epoch 22/50\n",
      "10130/10130 [==============================] - 4s 379us/step - loss: -0.6946 - accuracy: 0.5962\n",
      "Epoch 23/50\n",
      "10130/10130 [==============================] - 4s 378us/step - loss: -0.6968 - accuracy: 0.6027\n",
      "Epoch 24/50\n",
      "10130/10130 [==============================] - 4s 377us/step - loss: -0.6966 - accuracy: 0.6009\n",
      "Epoch 25/50\n",
      "10130/10130 [==============================] - 4s 376us/step - loss: -0.6982 - accuracy: 0.6024\n",
      "Epoch 26/50\n",
      "10130/10130 [==============================] - 4s 378us/step - loss: -0.6987 - accuracy: 0.6040\n",
      "Epoch 27/50\n",
      "10130/10130 [==============================] - 4s 386us/step - loss: -0.6998 - accuracy: 0.6035\n",
      "Epoch 28/50\n",
      "10130/10130 [==============================] - 4s 383us/step - loss: -0.7014 - accuracy: 0.6049\n",
      "Epoch 29/50\n",
      "10130/10130 [==============================] - 4s 380us/step - loss: -0.7019 - accuracy: 0.6076\n",
      "Epoch 30/50\n",
      "10130/10130 [==============================] - ETA: 0s - loss: -0.7025 - accuracy: 0.606 - 4s 376us/step - loss: -0.7026 - accuracy: 0.6064\n",
      "Epoch 31/50\n",
      "10130/10130 [==============================] - 4s 377us/step - loss: -0.7030 - accuracy: 0.6092 2s - lo\n",
      "Epoch 32/50\n",
      "10130/10130 [==============================] - 4s 379us/step - loss: -0.7043 - accuracy: 0.6081\n",
      "Epoch 33/50\n",
      "10130/10130 [==============================] - 4s 378us/step - loss: -0.7054 - accuracy: 0.6112\n",
      "Epoch 34/50\n",
      "10130/10130 [==============================] - 4s 378us/step - loss: -0.7071 - accuracy: 0.6124\n",
      "Epoch 35/50\n",
      "10130/10130 [==============================] - 4s 378us/step - loss: -0.7066 - accuracy: 0.6094\n",
      "Epoch 36/50\n",
      "10130/10130 [==============================] - 4s 378us/step - loss: -0.7085 - accuracy: 0.6115\n",
      "Epoch 37/50\n",
      "10130/10130 [==============================] - 4s 379us/step - loss: -0.7093 - accuracy: 0.6111\n",
      "Epoch 38/50\n",
      "10130/10130 [==============================] - 4s 376us/step - loss: -0.7100 - accuracy: 0.6172\n",
      "Epoch 39/50\n",
      "10130/10130 [==============================] - 4s 377us/step - loss: -0.7103 - accuracy: 0.6120 0s - loss: -0.7086 - accur\n",
      "Epoch 40/50\n",
      "10130/10130 [==============================] - 4s 379us/step - loss: -0.7112 - accuracy: 0.6168\n",
      "Epoch 41/50\n",
      "10130/10130 [==============================] - 4s 378us/step - loss: -0.7119 - accuracy: 0.6150\n",
      "Epoch 42/50\n",
      "10130/10130 [==============================] - 4s 376us/step - loss: -0.7121 - accuracy: 0.6158 1s - loss: \n",
      "Epoch 43/50\n",
      "10130/10130 [==============================] - ETA: 0s - loss: -0.7135 - accuracy: 0.616 - 4s 378us/step - loss: -0.7133 - accuracy: 0.6161\n",
      "Epoch 44/50\n",
      "10130/10130 [==============================] - 4s 377us/step - loss: -0.7130 - accuracy: 0.6156\n",
      "Epoch 45/50\n",
      "10130/10130 [==============================] - 4s 377us/step - loss: -0.7139 - accuracy: 0.6169\n",
      "Epoch 46/50\n",
      "10130/10130 [==============================] - 4s 377us/step - loss: -0.7147 - accuracy: 0.6161 0s - loss: -0.7155 - accuracy: 0.6\n",
      "Epoch 47/50\n",
      "10130/10130 [==============================] - 4s 382us/step - loss: -0.7150 - accuracy: 0.6183\n",
      "Epoch 48/50\n",
      "10130/10130 [==============================] - 4s 381us/step - loss: -0.7157 - accuracy: 0.6176\n",
      "Epoch 49/50\n",
      "10130/10130 [==============================] - 4s 378us/step - loss: -0.7161 - accuracy: 0.6166\n",
      "Epoch 50/50\n",
      "10130/10130 [==============================] - 4s 379us/step - loss: -0.7174 - accuracy: 0.6237\n"
     ]
    },
    {
     "data": {
      "text/plain": [
       "<keras.callbacks.callbacks.History at 0x247cb9c3780>"
      ]
     },
     "execution_count": 40,
     "metadata": {},
     "output_type": "execute_result"
    }
   ],
   "source": [
    "from keras.callbacks import TensorBoard\n",
    "\n",
    "autoencoder.fit(X_train, y_train, \n",
    "                epochs=50, \n",
    "                batch_size=100, \n",
    "                #validation_data=(X_test, y_test),\n",
    "                callbacks=[TensorBoard(log_dir='/tmp/autoencoder')])"
   ]
  },
  {
   "cell_type": "code",
   "execution_count": 41,
   "metadata": {},
   "outputs": [
    {
     "name": "stdout",
     "output_type": "stream",
     "text": [
      "0.5935094109513895\n"
     ]
    }
   ],
   "source": [
    "from scipy import spatial\n",
    "\n",
    "sum = 0\n",
    "for i in range(0, len(X_train)):\n",
    "    if np.amax(X_train[i]) <= 0.0 or np.amax(y_train[i]) <= 0.0:\n",
    "        continue\n",
    "    else:\n",
    "        dataSetI = X_train[i]\n",
    "        dataSetII = y_train[i]\n",
    "        result = 1 - spatial.distance.cosine(dataSetI, dataSetII)\n",
    "        sum += result\n",
    "print(sum / len(X_train))"
   ]
  },
  {
   "cell_type": "code",
   "execution_count": 42,
   "metadata": {},
   "outputs": [
    {
     "ename": "NameError",
     "evalue": "name 'X_test' is not defined",
     "output_type": "error",
     "traceback": [
      "\u001b[1;31m---------------------------------------------------------------------------\u001b[0m",
      "\u001b[1;31mNameError\u001b[0m                                 Traceback (most recent call last)",
      "\u001b[1;32m<ipython-input-42-59a6240a3185>\u001b[0m in \u001b[0;36m<module>\u001b[1;34m\u001b[0m\n\u001b[0;32m      1\u001b[0m \u001b[0msum\u001b[0m \u001b[1;33m=\u001b[0m \u001b[1;36m0\u001b[0m\u001b[1;33m\u001b[0m\u001b[1;33m\u001b[0m\u001b[0m\n\u001b[1;32m----> 2\u001b[1;33m \u001b[1;32mfor\u001b[0m \u001b[0mi\u001b[0m \u001b[1;32min\u001b[0m \u001b[0mrange\u001b[0m\u001b[1;33m(\u001b[0m\u001b[1;36m0\u001b[0m\u001b[1;33m,\u001b[0m \u001b[0mlen\u001b[0m\u001b[1;33m(\u001b[0m\u001b[0mX_test\u001b[0m\u001b[1;33m)\u001b[0m\u001b[1;33m)\u001b[0m\u001b[1;33m:\u001b[0m\u001b[1;33m\u001b[0m\u001b[1;33m\u001b[0m\u001b[0m\n\u001b[0m\u001b[0;32m      3\u001b[0m     \u001b[1;32mif\u001b[0m \u001b[0mnp\u001b[0m\u001b[1;33m.\u001b[0m\u001b[0mamax\u001b[0m\u001b[1;33m(\u001b[0m\u001b[0mX_test\u001b[0m\u001b[1;33m[\u001b[0m\u001b[0mi\u001b[0m\u001b[1;33m]\u001b[0m\u001b[1;33m)\u001b[0m \u001b[1;33m<=\u001b[0m \u001b[1;36m0.0\u001b[0m \u001b[1;32mor\u001b[0m \u001b[0mnp\u001b[0m\u001b[1;33m.\u001b[0m\u001b[0mamax\u001b[0m\u001b[1;33m(\u001b[0m\u001b[0my_test\u001b[0m\u001b[1;33m[\u001b[0m\u001b[0mi\u001b[0m\u001b[1;33m]\u001b[0m\u001b[1;33m)\u001b[0m \u001b[1;33m<=\u001b[0m \u001b[1;36m0.0\u001b[0m\u001b[1;33m:\u001b[0m\u001b[1;33m\u001b[0m\u001b[1;33m\u001b[0m\u001b[0m\n\u001b[0;32m      4\u001b[0m         \u001b[1;32mcontinue\u001b[0m\u001b[1;33m\u001b[0m\u001b[1;33m\u001b[0m\u001b[0m\n\u001b[0;32m      5\u001b[0m     \u001b[1;32melse\u001b[0m\u001b[1;33m:\u001b[0m\u001b[1;33m\u001b[0m\u001b[1;33m\u001b[0m\u001b[0m\n",
      "\u001b[1;31mNameError\u001b[0m: name 'X_test' is not defined"
     ]
    }
   ],
   "source": [
    "sum = 0\n",
    "for i in range(0, len(X_test)):\n",
    "    if np.amax(X_test[i]) <= 0.0 or np.amax(y_test[i]) <= 0.0:\n",
    "        continue\n",
    "    else:\n",
    "        dataSetI = X_test[i]\n",
    "        dataSetII = y_test[i]\n",
    "        result = 1 - spatial.distance.cosine(dataSetI, dataSetII)\n",
    "        sum += result\n",
    "print(sum / len(X_test))"
   ]
  },
  {
   "cell_type": "code",
   "execution_count": 43,
   "metadata": {},
   "outputs": [],
   "source": [
    "predicted = autoencoder.predict(X_train)"
   ]
  },
  {
   "cell_type": "code",
   "execution_count": 50,
   "metadata": {},
   "outputs": [
    {
     "name": "stdout",
     "output_type": "stream",
     "text": [
      "0.14968815\n",
      "0.26108235\n",
      "0.10708334\n"
     ]
    },
    {
     "data": {
      "image/png": "[encoded data removed]",
      "text/plain": [
       "<Figure size 1440x1440 with 3 Axes>"
      ]
     },
     "metadata": {
      "needs_background": "light"
     },
     "output_type": "display_data"
    }
   ],
   "source": [
    "import matplotlib.pyplot as plt\n",
    "\n",
    "fig, axs = plt.subplots(3, 1, figsize=(20,20))\n",
    "i = 24\n",
    "first = X_train[i]\n",
    "second = predicted[i]\n",
    "third = y_train[i]\n",
    "top_max = predicted[i]\n",
    "\n",
    "axs[0].plot(range(0, 2000), first)\n",
    "#axs[0].set_ylim(bottom=0, top=np.amax(top_max), auto=True)\n",
    "print(np.amax(first))\n",
    "\n",
    "axs[1].plot(range(0, 2000), second)\n",
    "#axs[1].set_ylim(bottom=0, top=np.amax(top_max), auto=True)\n",
    "print(np.amax(second))\n",
    "\n",
    "axs[2].plot(range(0, 2000), third)\n",
    "#axs[2].set_ylim(bottom=0, top=np.amax(top_max), auto=True)\n",
    "print(np.amax(third))"
   ]
  },
  {
   "cell_type": "code",
   "execution_count": null,
   "metadata": {},
   "outputs": [],
   "source": []
  },
  {
   "cell_type": "code",
   "execution_count": null,
   "metadata": {},
   "outputs": [],
   "source": []
  }
 ],
 "metadata": {
  "kernelspec": {
   "display_name": "Python 3",
   "language": "python",
   "name": "python3"
  },
  "language_info": {
   "codemirror_mode": {
    "name": "ipython",
    "version": 3
   },
   "file_extension": ".py",
   "mimetype": "text/x-python",
   "name": "python",
   "nbconvert_exporter": "python",
   "pygments_lexer": "ipython3",
   "version": "3.7.3"
  }
 },
 "nbformat": 4,
 "nbformat_minor": 2
}
